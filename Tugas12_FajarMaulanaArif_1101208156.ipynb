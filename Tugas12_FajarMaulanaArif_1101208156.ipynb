{
  "nbformat": 4,
  "nbformat_minor": 0,
  "metadata": {
    "colab": {
      "name": "Tugas12_FajarMaulanaArif_1101208156.ipynb",
      "provenance": [],
      "authorship_tag": "ABX9TyOrRFMMnKz/k/Jtr+S+eZm6",
      "include_colab_link": true
    },
    "kernelspec": {
      "name": "python3",
      "display_name": "Python 3"
    }
  },
  "cells": [
    {
      "cell_type": "markdown",
      "metadata": {
        "id": "view-in-github",
        "colab_type": "text"
      },
      "source": [
        "<a href=\"https://colab.research.google.com/github/fajarmarif14/Tugas-12/blob/main/Tugas12_FajarMaulanaArif_1101208156.ipynb\" target=\"_parent\"><img src=\"https://colab.research.google.com/assets/colab-badge.svg\" alt=\"Open In Colab\"/></a>"
      ]
    },
    {
      "cell_type": "code",
      "metadata": {
        "id": "YXDEUbdt0vu-"
      },
      "source": [
        "Fajar Maulana Arif\r\n",
        "1101208156"
      ],
      "execution_count": null,
      "outputs": []
    },
    {
      "cell_type": "code",
      "metadata": {
        "id": "sSoOxrX1z-EB"
      },
      "source": [
        "import numpy as np"
      ],
      "execution_count": 1,
      "outputs": []
    },
    {
      "cell_type": "code",
      "metadata": {
        "id": "JPobgKHC0CGZ"
      },
      "source": [
        "NtL = lambda x: 10*np.log10(x)"
      ],
      "execution_count": 2,
      "outputs": []
    },
    {
      "cell_type": "code",
      "metadata": {
        "colab": {
          "base_uri": "https://localhost:8080/"
        },
        "id": "vnokauL10CD5",
        "outputId": "9697acf3-a44e-4942-f7f3-b719c58f70e9"
      },
      "source": [
        "z=NtL(20)\r\n",
        "print(z)"
      ],
      "execution_count": 3,
      "outputs": [
        {
          "output_type": "stream",
          "text": [
            "13.010299956639813\n"
          ],
          "name": "stdout"
        }
      ]
    },
    {
      "cell_type": "code",
      "metadata": {
        "id": "wl6Ckvlg0CBP"
      },
      "source": [
        "LtN = lambda x: 10**(x/10)"
      ],
      "execution_count": 4,
      "outputs": []
    },
    {
      "cell_type": "code",
      "metadata": {
        "colab": {
          "base_uri": "https://localhost:8080/"
        },
        "id": "HOIe2mn80B-l",
        "outputId": "9bd8f461-d60e-435d-bdc6-35aec6dd26a9"
      },
      "source": [
        "y=LtN(20)\r\n",
        "print(y)"
      ],
      "execution_count": 5,
      "outputs": [
        {
          "output_type": "stream",
          "text": [
            "100.0\n"
          ],
          "name": "stdout"
        }
      ]
    },
    {
      "cell_type": "code",
      "metadata": {
        "colab": {
          "base_uri": "https://localhost:8080/"
        },
        "id": "x1sZHxJW0B76",
        "outputId": "8eeda2d4-3741-430f-f1d3-067c3dbb56bc"
      },
      "source": [
        "Lp = 69.55 + (26.16*np.log10(900)) - (13.83*np.log10(30)) - ((((1.1*np.log10(900))-0.7)*10) - ((1.56*np.log10(900))-0.8)) + ((44.9-(6.55*np.log10(30)))*np.log10(1)) + 0\r\n",
        "print(Lp)"
      ],
      "execution_count": 6,
      "outputs": [
        {
          "output_type": "stream",
          "text": [
            "104.71634780505256\n"
          ],
          "name": "stdout"
        }
      ]
    },
    {
      "cell_type": "code",
      "metadata": {
        "id": "zVstlOUF0B5I"
      },
      "source": [
        "def ploss (d, f, cm, ht, hr):\r\n",
        "    pldb= 69.55 + (26.16*np.log10(f)) - (13.83*np.log10(ht)) - ((((1.1*np.log10(f))-0.7)*hr) - ((1.56*np.log10(f))-0.8)) + ((44.9-(6.55*np.log10(ht)))*np.log10(d)) + cm\r\n",
        "    plnum=LtN(-pldb)\r\n",
        "    return pldb,plnum"
      ],
      "execution_count": 7,
      "outputs": []
    },
    {
      "cell_type": "code",
      "metadata": {
        "colab": {
          "base_uri": "https://localhost:8080/"
        },
        "id": "4nympo630B2Z",
        "outputId": "1ea03f55-3575-4bfb-91e8-7e18c829a9c9"
      },
      "source": [
        "pathlossdb, pathlossnum = ploss(3, 1500, 0, 120, 25)\r\n",
        "print(\"pathloss dalam db =\",pathlossdb,\"dB\")"
      ],
      "execution_count": 8,
      "outputs": [
        {
          "output_type": "stream",
          "text": [
            "pathloss dalam db = 73.11866653094631 dB\n"
          ],
          "name": "stdout"
        }
      ]
    },
    {
      "cell_type": "code",
      "metadata": {
        "id": "lphVUEKh0Bzx"
      },
      "source": [
        ""
      ],
      "execution_count": 8,
      "outputs": []
    },
    {
      "cell_type": "code",
      "metadata": {
        "id": "I7K3QOWk0Bw-"
      },
      "source": [
        ""
      ],
      "execution_count": 8,
      "outputs": []
    },
    {
      "cell_type": "code",
      "metadata": {
        "id": "fhHD7ktf0BtQ"
      },
      "source": [
        ""
      ],
      "execution_count": 8,
      "outputs": []
    },
    {
      "cell_type": "code",
      "metadata": {
        "id": "lFPwAGBF0Bkm"
      },
      "source": [
        ""
      ],
      "execution_count": 8,
      "outputs": []
    }
  ]
}